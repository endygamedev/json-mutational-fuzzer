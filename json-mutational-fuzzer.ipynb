{
 "cells": [
  {
   "cell_type": "markdown",
   "id": "366ca447-5618-4d7b-bfd5-82e959be60ec",
   "metadata": {},
   "source": [
    "<div align=\"right\"><i>Бронников Егор</i></p>"
   ]
  },
  {
   "cell_type": "markdown",
   "id": "7bb8fed6-4b8d-4b4a-a59e-cc6ed8168739",
   "metadata": {},
   "source": [
    "# Лабораторная работа №2"
   ]
  },
  {
   "cell_type": "markdown",
   "id": "59234eb7-5e3f-4091-9879-9ef62de13de2",
   "metadata": {},
   "source": [
    "## Импорты"
   ]
  },
  {
   "cell_type": "code",
   "execution_count": 1,
   "id": "ec7c8876-b8c8-4bd9-b83b-495cbc0513b6",
   "metadata": {},
   "outputs": [],
   "source": [
    "from re import compile\n",
    "from random import choice, choices, randint\n",
    "from sys import settrace\n",
    "from collections import defaultdict\n",
    "from types import FrameType\n",
    "from typing import Callable, Any, Self\n",
    "from inspect import getsourcelines, getmodule\n",
    "from enum import Enum\n",
    "from string import ascii_letters, digits\n",
    "from json import dumps, JSONDecodeError\n",
    "from copy import deepcopy\n",
    "\n",
    "from tqdm.notebook import tqdm\n",
    "import matplotlib.pyplot as plt"
   ]
  },
  {
   "cell_type": "code",
   "execution_count": 2,
   "id": "7b49e48e-2514-49bc-bd15-8470336319cf",
   "metadata": {},
   "outputs": [],
   "source": [
    "from json import loads as json_loads          # https://github.com/python/cpython/tree/3.13/Lib/json\n",
    "from ujson import loads as ultra_loads        # https://github.com/ultrajson/ultrajson/tree/main/python\n",
    "\n",
    "from custom_json_parse import parse as custom_parse"
   ]
  },
  {
   "cell_type": "markdown",
   "id": "0b7b07bb-9198-4127-8ade-f33b7e39c8fb",
   "metadata": {},
   "source": [
    "## Грамматика JSON"
   ]
  },
  {
   "cell_type": "markdown",
   "id": "76dd8d8e-c665-42cb-8d4d-94cc3c703db8",
   "metadata": {},
   "source": [
    "- [Railroad Diagram](https://www.json.org/json-en.html)\n",
    "- [McKeeman Form](https://www.crockford.com/mckeeman.html)"
   ]
  },
  {
   "cell_type": "code",
   "execution_count": 3,
   "id": "c8119222-ef55-46a4-8a5b-dbf27d2a724d",
   "metadata": {},
   "outputs": [],
   "source": [
    "Grammar = dict[str, list[str]]"
   ]
  },
  {
   "cell_type": "code",
   "execution_count": 4,
   "id": "9aea8d64-e10e-4ac8-ada3-0394cc96a2b8",
   "metadata": {},
   "outputs": [],
   "source": [
    "JSON_GRAMMAR: Grammar = {\n",
    "    \"<json>\": [\n",
    "        \"<element>\",\n",
    "    ],\n",
    "    \"<value>\": [\n",
    "        \"<object>\",\n",
    "        \"<array>\",\n",
    "        \"<string>\",\n",
    "        \"<number>\",\n",
    "        \"true\",\n",
    "        \"false\",\n",
    "        \"null\",\n",
    "    ],\n",
    "    \"<object>\": [\n",
    "        \"{<ws>}\",\n",
    "        \"{<members>}\",\n",
    "    ],\n",
    "    \"<members>\": [\n",
    "        \"<member>\",\n",
    "        \"<member>,<members>\",\n",
    "    ],\n",
    "    \"<member>\": [\n",
    "         \"<ws><string><ws>:<element>\"   \n",
    "    ],\n",
    "    \"<array>\": [\n",
    "        \"[<ws>]\",\n",
    "        \"[<elements>]\",\n",
    "    ],\n",
    "    \"<elements>\": [\n",
    "        \"<element>\",\n",
    "        \"<element>,<elements>\",\n",
    "    ],\n",
    "    \"<element>\": [\n",
    "        \"<ws><value><ws>\",\n",
    "    ],\n",
    "    \"<string>\": [\n",
    "        '\"<characters>\"',\n",
    "    ],\n",
    "    \"<characters>\": [\n",
    "        \"\",\n",
    "        \"<character><characters>\",\n",
    "    ],\n",
    "    \"<character>\": [\n",
    "        *{chr(index) for index in range(0x0020, 0x10FFFF + 1) if chr(index) != '\"' and chr(index) != \"\\\\\"},\n",
    "        \"\\\\<escape>\",\n",
    "    ],\n",
    "    \"<escape>\": [\n",
    "        '\"',\n",
    "        \"\\\\\",\n",
    "        \"/\",\n",
    "        \"b\",\n",
    "        \"f\",\n",
    "        \"n\",\n",
    "        \"r\",\n",
    "        \"t\",\n",
    "        \"u<hex><hex><hex><hex>\",\n",
    "    ],\n",
    "    \"<hex>\": [\n",
    "        \"<digit>\",\n",
    "        *{chr(index) for index in range(ord(\"A\"), ord(\"F\") + 1)},\n",
    "        *{chr(index) for index in range(ord(\"a\"), ord(\"f\") + 1)},\n",
    "    ],\n",
    "    \"<number>\": [\n",
    "        \"<integer><fraction><exponent>\",\n",
    "    ],\n",
    "    \"<integer>\": [\n",
    "        \"<digit>\",\n",
    "        \"<onenine><digits>\",\n",
    "        \"-<digit>\",\n",
    "        \"-<onenine><digits>\",\n",
    "    ],\n",
    "    \"<digits>\": [\n",
    "        \"<digit>\",\n",
    "        \"<digit><digits>\",\n",
    "    ],\n",
    "    \"<digit>\": [\n",
    "        '0',\n",
    "        \"<onenine>\",\n",
    "    ],\n",
    "    \"<onenine>\": [\n",
    "        *{chr(index) for index in range(ord(\"1\"), ord(\"9\") + 1)}\n",
    "    ],\n",
    "    \"<fraction>\": [\n",
    "        \"\",\n",
    "        \".<digits>\",\n",
    "    ],\n",
    "    \"<exponent>\": [\n",
    "        \"\",\n",
    "        \"E<sign><digits>\",\n",
    "        \"e<sign><digits>\",\n",
    "    ],\n",
    "    \"<sign>\": [\n",
    "        \"\",\n",
    "        \"+\",\n",
    "        \"-\",\n",
    "    ],\n",
    "    \"<ws>\": [\n",
    "        \"\",\n",
    "        \"\\u0020<ws>\",\n",
    "        \"\\u000A<ws>\",\n",
    "        \"\\u000D<ws>\",\n",
    "        \"\\u0009<ws>\",\n",
    "    ],\n",
    "}"
   ]
  },
  {
   "cell_type": "code",
   "execution_count": 5,
   "id": "ae362cf5-9784-475a-af46-081d6cb50909",
   "metadata": {},
   "outputs": [],
   "source": [
    "RE_NONTERMINAL = compile(r\"<[^<> ]*>\")"
   ]
  },
  {
   "cell_type": "code",
   "execution_count": 6,
   "id": "11e00202-f954-44b7-a6a4-60c305b943c0",
   "metadata": {},
   "outputs": [],
   "source": [
    "def non_terminals(expansion: str | list[str]) -> list[str]:\n",
    "    if isinstance(expansion, list):\n",
    "        expansion = expansion[0]\n",
    "\n",
    "    return RE_NONTERMINAL.findall(expansion)"
   ]
  },
  {
   "cell_type": "code",
   "execution_count": 7,
   "id": "c2b063cc-e23c-4674-ac35-3d4f02effda3",
   "metadata": {},
   "outputs": [],
   "source": [
    "def is_non_terminal(expansion: str) -> bool:\n",
    "    return RE_NONTERMINAL.match(expansion) is not None"
   ]
  },
  {
   "cell_type": "code",
   "execution_count": 8,
   "id": "50822102-725b-4b76-a440-69e3ab4b526c",
   "metadata": {},
   "outputs": [],
   "source": [
    "def simple_grammar_fuzzer(\n",
    "    grammar: Grammar,\n",
    "    start: str,\n",
    "    *,\n",
    "    max_nonterminals: int,\n",
    "    max_expansion_trials: int,\n",
    ") -> str:\n",
    "    term = start\n",
    "    expansion_trials = 0\n",
    "\n",
    "    while len(non_terminals(term)) != 0:\n",
    "        symbol_to_expand = choice(non_terminals(term))\n",
    "        expansions = grammar[symbol_to_expand]\n",
    "        expansion = choice(expansions)\n",
    "\n",
    "        new_term = term.replace(symbol_to_expand, expansion, 1)\n",
    "\n",
    "        if len(non_terminals(new_term)) < max_nonterminals:\n",
    "            term = new_term\n",
    "            expansions_trials = 0\n",
    "        else:\n",
    "            expansion_trials += 1\n",
    "            if expansion_trials >= max_expansion_trials:\n",
    "                raise ValueError(f\"Cannot expand: {term}\")\n",
    "\n",
    "    return term"
   ]
  },
  {
   "cell_type": "code",
   "execution_count": 9,
   "id": "f56bd0cb-38e9-499c-b820-56eeec914638",
   "metadata": {},
   "outputs": [],
   "source": [
    "valid_json = simple_grammar_fuzzer(\n",
    "                grammar=JSON_GRAMMAR,\n",
    "                start=\"<json>\",\n",
    "                max_nonterminals=10,\n",
    "                max_expansion_trials=100,\n",
    "            )"
   ]
  },
  {
   "cell_type": "code",
   "execution_count": 10,
   "id": "60afe653-0cdb-4796-a7d1-f5fe5de473ab",
   "metadata": {},
   "outputs": [
    {
     "name": "stdout",
     "output_type": "stream",
     "text": [
      "'\\t\\ttrue\\r'\n"
     ]
    }
   ],
   "source": [
    "print(repr(valid_json))"
   ]
  },
  {
   "cell_type": "code",
   "execution_count": 11,
   "id": "51300438-bc30-44a2-9da3-a39237669325",
   "metadata": {},
   "outputs": [
    {
     "name": "stdout",
     "output_type": "stream",
     "text": [
      "\t\ttrue\n"
     ]
    }
   ],
   "source": [
    "print(valid_json)"
   ]
  },
  {
   "cell_type": "markdown",
   "id": "b0e38e60-9098-4163-9549-3ab654c81d6a",
   "metadata": {},
   "source": [
    "## Coverage-guided Fuzzer"
   ]
  },
  {
   "cell_type": "markdown",
   "id": "3987d6f0-64be-43ee-9ebf-8360fbeafe98",
   "metadata": {},
   "source": [
    "`Tracer` – класс для отслеживания выполнения программы"
   ]
  },
  {
   "cell_type": "code",
   "execution_count": 12,
   "id": "6eb5a1b5-3925-46d4-af55-8fff31e02821",
   "metadata": {},
   "outputs": [],
   "source": [
    "class Tracer:\n",
    "    def __init__(self: Self) -> None:\n",
    "        self.called_functions = set()\n",
    "        self.executed_lines = set()\n",
    "\n",
    "    def reset(self: Self) -> None:\n",
    "        self.called_functions.clear()\n",
    "        self.executed_lines.clear()\n",
    "\n",
    "    def trace_lines(self: Self, frame: FrameType, event: str, arg: Any) -> None:\n",
    "        if event != \"line\":\n",
    "            return\n",
    "        self.executed_lines.add(frame.f_lineno)\n",
    "\n",
    "    def trace_calls(self: Self, frame: FrameType, event: str, arg: Any) -> FrameType | None:\n",
    "        if event != \"call\":\n",
    "            return\n",
    "        func_name = frame.f_code.co_name\n",
    "        self.called_functions.add(func_name)\n",
    "        return self.trace_lines\n",
    "    \n",
    "    def trace(self: Self, function: Callable[..., Any], *args, **kwargs) -> Any:\n",
    "        self.reset()\n",
    "        settrace(self.trace_calls)\n",
    "        result = function(*args, **kwargs)\n",
    "        settrace(None)\n",
    "        return result"
   ]
  },
  {
   "cell_type": "markdown",
   "id": "d4d33633-21a6-46b9-9c62-e7c83b0d7ae4",
   "metadata": {},
   "source": [
    "__Примеры__"
   ]
  },
  {
   "cell_type": "code",
   "execution_count": 13,
   "id": "cfd73dd5-6301-491b-9943-569ca12cd00f",
   "metadata": {},
   "outputs": [],
   "source": [
    "tracer = Tracer()"
   ]
  },
  {
   "cell_type": "code",
   "execution_count": 14,
   "id": "725b3f6d-de34-4dbe-a303-08fbe6b43ad1",
   "metadata": {},
   "outputs": [
    {
     "data": {
      "text/plain": [
       "True"
      ]
     },
     "execution_count": 14,
     "metadata": {},
     "output_type": "execute_result"
    }
   ],
   "source": [
    "tracer.trace(json_loads, valid_json)"
   ]
  },
  {
   "cell_type": "code",
   "execution_count": 15,
   "id": "42528ecd-c8c4-4b9c-afb5-643992fce39d",
   "metadata": {},
   "outputs": [
    {
     "name": "stdout",
     "output_type": "stream",
     "text": [
      "{'loads', 'raw_decode', 'decode'}\n"
     ]
    }
   ],
   "source": [
    "print(tracer.called_functions)"
   ]
  },
  {
   "cell_type": "code",
   "execution_count": 16,
   "id": "57a2dc65-320b-4180-ac64-9180e668ae67",
   "metadata": {},
   "outputs": [
    {
     "name": "stdout",
     "output_type": "stream",
     "text": [
      "{352, 353, 356, 333, 334, 337, 338, 339, 341, 343, 344, 345, 346}\n"
     ]
    }
   ],
   "source": [
    "print(tracer.executed_lines)"
   ]
  },
  {
   "cell_type": "markdown",
   "id": "47eea4c4-9246-49e7-a0b4-45300702afea",
   "metadata": {},
   "source": [
    "`CoverageTracker` – класс для отслеживания покрытия"
   ]
  },
  {
   "cell_type": "code",
   "execution_count": 17,
   "id": "a21e240b-0fc9-49da-b4e0-633e13f0770c",
   "metadata": {},
   "outputs": [],
   "source": [
    "class CoverageTacker:\n",
    "    def __init__(self: Self, *, function: Callable[..., Any]) -> None:\n",
    "        self.function = function\n",
    "\n",
    "        self.covered_lines = set()\n",
    "        self.tracer = Tracer()\n",
    "\n",
    "        lines, start_line_number = getsourcelines(getmodule(self.function))\n",
    "        self.lines = set(range(start_line_number + 1, start_line_number + len(lines) + 2))\n",
    "\n",
    "    def reset(self: Self) -> None:\n",
    "        self.covered_lines.clear()\n",
    "\n",
    "    def run_with_args(self: Self, *args, **kwargs) -> Any:\n",
    "        self.reset()\n",
    "        result = self.tracer.trace(self.function, *args, **kwargs)\n",
    "        self.covered_lines = self.tracer.executed_lines\n",
    "        return result"
   ]
  },
  {
   "cell_type": "markdown",
   "id": "02044aac-3215-4235-8502-8a46b101de0a",
   "metadata": {},
   "source": [
    "__Примеры__"
   ]
  },
  {
   "cell_type": "code",
   "execution_count": 18,
   "id": "f000dfc0-10f4-4fdc-b1d3-672f7ef6c4ee",
   "metadata": {},
   "outputs": [],
   "source": [
    "coverage_tracker = CoverageTacker(function=json_loads)"
   ]
  },
  {
   "cell_type": "code",
   "execution_count": 19,
   "id": "25444a3c-aac6-4b3d-bcbe-283ebdda5d01",
   "metadata": {},
   "outputs": [
    {
     "data": {
      "text/plain": [
       "True"
      ]
     },
     "execution_count": 19,
     "metadata": {},
     "output_type": "execute_result"
    }
   ],
   "source": [
    "coverage_tracker.run_with_args(valid_json)"
   ]
  },
  {
   "cell_type": "code",
   "execution_count": 20,
   "id": "4f676c73-f02b-41a2-8c8c-bb8d4d3b2a7d",
   "metadata": {},
   "outputs": [
    {
     "name": "stdout",
     "output_type": "stream",
     "text": [
      "{352, 353, 356, 333, 334, 337, 338, 339, 341, 343, 344, 345, 346}\n"
     ]
    }
   ],
   "source": [
    "print(coverage_tracker.covered_lines)"
   ]
  },
  {
   "cell_type": "markdown",
   "id": "8e057be0-8eeb-428e-8d4c-b4bc19e4daa6",
   "metadata": {},
   "source": [
    "`RunnerStatus` – результат запуска целевой функции"
   ]
  },
  {
   "cell_type": "code",
   "execution_count": 21,
   "id": "68e25886-5aac-40ad-8ea8-6e23c79f0796",
   "metadata": {},
   "outputs": [],
   "source": [
    "class RunnerStatus(Enum):\n",
    "    SUCCESS = \"SUCCESS\"\n",
    "    FAILED = \"FAILED\""
   ]
  },
  {
   "cell_type": "markdown",
   "id": "b8a6ba1a-c117-47df-962a-a19e497ebb21",
   "metadata": {},
   "source": [
    "`Runner` – класс для запуска целевой функции"
   ]
  },
  {
   "cell_type": "code",
   "execution_count": 22,
   "id": "43116285-a7a4-4451-bf7b-ef1d522674c2",
   "metadata": {},
   "outputs": [],
   "source": [
    "class Runner:\n",
    "    def __init__(self: Self, *, target: Callable[..., Any]) -> None:\n",
    "        self.target = target\n",
    "        self.coverage = CoverageTacker(function=self.target)\n",
    "\n",
    "    def run_function(self: Self, *args, **kwargs) -> Any:\n",
    "        return self.target(*args, **kwargs)\n",
    "\n",
    "    def run_coverage(self: Self, *args, **kwargs) -> Any:\n",
    "        return self.coverage.run_with_args(*args, **kwargs)\n",
    "\n",
    "    def run(self: Self, *args, **kwargs) -> tuple[Any, RunnerStatus]:\n",
    "        status = RunnerStatus.SUCCESS\n",
    "        result = None\n",
    "        try:\n",
    "            result = self.run_coverage(*args, **kwargs)\n",
    "        except Exception as exception:\n",
    "            status = RunnerStatus.FAILED\n",
    "\n",
    "        return result, status"
   ]
  },
  {
   "cell_type": "code",
   "execution_count": 23,
   "id": "287ca5bb-cde6-4d27-ab78-e6371c032091",
   "metadata": {},
   "outputs": [],
   "source": [
    "runner = Runner(target=json_loads)"
   ]
  },
  {
   "cell_type": "code",
   "execution_count": 24,
   "id": "4e582f99-0d60-48f6-a072-788206cd4139",
   "metadata": {},
   "outputs": [
    {
     "data": {
      "text/plain": [
       "(True, <RunnerStatus.SUCCESS: 'SUCCESS'>)"
      ]
     },
     "execution_count": 24,
     "metadata": {},
     "output_type": "execute_result"
    }
   ],
   "source": [
    "runner.run(valid_json)"
   ]
  },
  {
   "cell_type": "markdown",
   "id": "9d31e3ff-4ca4-4d87-aeb1-5430f6c490b0",
   "metadata": {},
   "source": [
    "`Mutation` – класс для произведения мутаций"
   ]
  },
  {
   "cell_type": "code",
   "execution_count": 25,
   "id": "f2b4bc87-aecf-4055-b93e-7ed244a10f8a",
   "metadata": {},
   "outputs": [],
   "source": [
    "class Mutation:\n",
    "    def __init__(self: Self, *, individual: str, whitespaces: list[str]) -> None:\n",
    "        self.individual = individual\n",
    "        self.whitespaces = whitespaces\n",
    "\n",
    "    def remove_whitespace(self: Self) -> str:\n",
    "        mutant = self.individual\n",
    "        whitespace_indices = [index for index, character in enumerate(self.individual) if character in ' \\t\\n\\r']\n",
    "        if whitespace_indices:\n",
    "            index = choice(whitespace_indices)\n",
    "            mutant = self.individual[:index] + self.individual[index + 1:]\n",
    "        return mutant\n",
    "\n",
    "    def replace_whitespace(self: Self) -> str:\n",
    "        mutant = self.individual\n",
    "        whitespace_indices = [index for index, character in enumerate(self.individual) if character in ' \\t\\n\\r']\n",
    "        if whitespace_indices:\n",
    "            index = choice(whitespace_indices)\n",
    "            new_whitespace = choice(list(set(self.whitespaces).difference({self.individual[index]})))\n",
    "            mutant = self.individual[:index] + new_whitespace + self.individual[index + 1:]\n",
    "        return mutant\n",
    "\n",
    "    def wrap_with_whitespace(self: Self) -> str:\n",
    "        return ' ' + self.individual + ' '"
   ]
  },
  {
   "cell_type": "markdown",
   "id": "f68ae3e0-b2f3-43f5-8853-90db73376c3d",
   "metadata": {},
   "source": [
    "__Примеры__"
   ]
  },
  {
   "cell_type": "code",
   "execution_count": 26,
   "id": "546e503e-bfeb-4ab5-b88b-538cb4537588",
   "metadata": {},
   "outputs": [
    {
     "data": {
      "text/plain": [
       "'false\\r\\t\\n\\t  \\t\\r\\t '"
      ]
     },
     "execution_count": 26,
     "metadata": {},
     "output_type": "execute_result"
    }
   ],
   "source": [
    "Mutation(whitespaces=[\" \", \"\\t\", \"\\n\", \"\\r\"], individual=\"false\\r\\t\\n\\t  \\t\\r \\t \").remove_whitespace()"
   ]
  },
  {
   "cell_type": "code",
   "execution_count": 27,
   "id": "01720460-cb41-4bf0-9a12-164f48643842",
   "metadata": {},
   "outputs": [
    {
     "data": {
      "text/plain": [
       "'false\\r\\t\\n\\t  \\t\\r\\n\\t '"
      ]
     },
     "execution_count": 27,
     "metadata": {},
     "output_type": "execute_result"
    }
   ],
   "source": [
    "Mutation(whitespaces=[\" \", \"\\t\", \"\\n\", \"\\r\"], individual=\"false\\r\\t\\n\\t  \\t\\r \\t \").replace_whitespace()"
   ]
  },
  {
   "cell_type": "code",
   "execution_count": 28,
   "id": "5d2d5fc0-4c7a-4193-9937-23f2014c571b",
   "metadata": {},
   "outputs": [
    {
     "data": {
      "text/plain": [
       "' false\\r\\t\\n\\t  \\t\\r \\t  '"
      ]
     },
     "execution_count": 28,
     "metadata": {},
     "output_type": "execute_result"
    }
   ],
   "source": [
    "Mutation(whitespaces=[\" \", \"\\t\", \"\\n\", \"\\r\"], individual=\"false\\r\\t\\n\\t  \\t\\r \\t \").wrap_with_whitespace()"
   ]
  },
  {
   "cell_type": "markdown",
   "id": "b8b79750-8110-4419-bfda-e2e6b97fd48f",
   "metadata": {},
   "source": [
    "`MutationCoverageFuzzer` – класс для запуска процесса фаззинга на основе покрытия"
   ]
  },
  {
   "cell_type": "code",
   "execution_count": 29,
   "id": "25681e6a-02dc-41d2-8ed0-6ff4a2fba878",
   "metadata": {},
   "outputs": [],
   "source": [
    "class MutationCoverageFuzzer:\n",
    "    def __init__(\n",
    "        self: Self,\n",
    "        *,\n",
    "        target: Callable[..., Any],\n",
    "        seed: set[str],\n",
    "        min_mutations: int,\n",
    "        max_mutations: int,\n",
    "        tries: int,\n",
    "    ) -> None:\n",
    "        self.target = target\n",
    "        self.seed = seed\n",
    "        self.min_mutations = min_mutations\n",
    "        self.max_mutations = max_mutations\n",
    "        self.tries = tries\n",
    "\n",
    "        self.stats = defaultdict(lambda: 0)\n",
    "        self.failed_individuals = set()\n",
    "        self.coverage_stats = []\n",
    "\n",
    "        self.runner = Runner(target=target)\n",
    "        self.population = self.seed\n",
    "        self.coverage_status = {line: False for line in self.runner.coverage.lines}\n",
    "\n",
    "        self.init()\n",
    "\n",
    "    def mutate(self: Self, individual: str) -> str:\n",
    "        mutation = Mutation(individual=individual, whitespaces=[\" \", \"\\t\", \"\\n\", \"\\r\"])\n",
    "        return choice([\n",
    "            mutation.remove_whitespace,\n",
    "            mutation.replace_whitespace,\n",
    "            mutation.wrap_with_whitespace,\n",
    "        ])()\n",
    "\n",
    "    def create_candidate(self: Self) -> str:\n",
    "        candidate = choice(list(self.population))\n",
    "        mutations_count = randint(self.min_mutations, self.max_mutations)\n",
    "        for _ in range(mutations_count):\n",
    "            candidate = self.mutate(candidate)\n",
    "        return candidate\n",
    "\n",
    "    def _run(self: Self, individual: str) -> RunnerStatus:\n",
    "        _, result = self.runner.run(individual)\n",
    "        covered_lines = self.runner.coverage.covered_lines\n",
    "        for line in covered_lines:\n",
    "            if not self.coverage_status[line]:\n",
    "                self.coverage_status[line] = True\n",
    "                self.population.add(individual)\n",
    "\n",
    "        self.stats[result] += 1\n",
    "        self.coverage_stats.append(len(list(filter(self.coverage_status.get, self.coverage_status))))\n",
    "        \n",
    "        if result is RunnerStatus.FAILED:\n",
    "            self.failed_individuals.add(individual)\n",
    "        \n",
    "        return result\n",
    "\n",
    "    def init(self: Self) -> None:\n",
    "        for individual in self.seed:\n",
    "            self._run(individual)\n",
    "\n",
    "    def run(self: Self) -> None:\n",
    "        individual = self.create_candidate()\n",
    "        self._run(individual)\n",
    "\n",
    "    def fuzz(self: Self) -> None:\n",
    "        for _ in tqdm(range(self.tries)):\n",
    "            self.run()"
   ]
  },
  {
   "cell_type": "markdown",
   "id": "393e105a-bddf-4275-b91c-74c76dceb876",
   "metadata": {},
   "source": [
    "__Расчёты__"
   ]
  },
  {
   "cell_type": "code",
   "execution_count": 30,
   "id": "d2c1368f-e02d-49aa-b606-e5c2d6b4a4c1",
   "metadata": {},
   "outputs": [
    {
     "data": {
      "text/plain": [
       "{'\\t\\t-2.00\\t\\t\\n \\r\\n\\r',\n",
       " '\\t\\r\\r [{ \\t\\r\\t\\r\\r\"\"\\t\\t\\n \\t \\t:\\n\\t\\n\\r\\t \\r\\r\\n[{\\t}\\n\\t,  \\t\\r\\rfalse]\\n\\t\\r ,\\t\\r\\t \\n \\r\"\"\\r :\\r\\t\\n\\t\\t\\n \\n\\n\\n\\r\\n\\t\\t\\r\\r\\n\\t\\t  \\n\\r\\r\\r\\n\\n\\t \\r \\n \\n\\rfalse}]',\n",
       " '\\t-6.0e+0\\r \\n\\t ',\n",
       " '\\n\\n\\n\\r\\n\\r-0.08080730 \\r\\r\\n\\n\\n \\n \\t',\n",
       " '\\n \\t\\r\\n\\t\\t \\r\\tfalse\\t\\n \\n \\t  \\r\\t\\r\\r \\r',\n",
       " '\\r\\r\\ntrue',\n",
       " '\\r[\\n\\n \\t\\r]',\n",
       " ' \\tfalse\\t',\n",
       " '[\\r\\t\\r\\r\\r\\r\\n ]\\n ',\n",
       " 'true\\r\\r '}"
      ]
     },
     "execution_count": 30,
     "metadata": {},
     "output_type": "execute_result"
    }
   ],
   "source": [
    "initial_seeds = {simple_grammar_fuzzer(grammar=JSON_GRAMMAR, start=\"<json>\", max_nonterminals=7, max_expansion_trials=100) for _ in range(10)}\n",
    "initial_seeds"
   ]
  },
  {
   "cell_type": "code",
   "execution_count": 31,
   "id": "0200c15d-428a-452c-920a-0be0f9afddf5",
   "metadata": {},
   "outputs": [],
   "source": [
    "mutation_coverage_fuzzer = MutationCoverageFuzzer(\n",
    "                                target=json_loads,\n",
    "                                seed=initial_seeds,\n",
    "                                min_mutations=10,\n",
    "                                max_mutations=20,\n",
    "                                tries=500_000,\n",
    "                            )"
   ]
  },
  {
   "cell_type": "code",
   "execution_count": 32,
   "id": "e82106f9-29dd-493a-95a7-6461c982ccb0",
   "metadata": {},
   "outputs": [
    {
     "data": {
      "application/vnd.jupyter.widget-view+json": {
       "model_id": "1a0e9f00410341d29368eff79b5be23f",
       "version_major": 2,
       "version_minor": 0
      },
      "text/plain": [
       "  0%|          | 0/500000 [00:00<?, ?it/s]"
      ]
     },
     "metadata": {},
     "output_type": "display_data"
    }
   ],
   "source": [
    "mutation_coverage_fuzzer.fuzz()"
   ]
  },
  {
   "cell_type": "markdown",
   "id": "f039f287-5407-4846-b322-b62b574d3e34",
   "metadata": {},
   "source": [
    "__Результаты__"
   ]
  },
  {
   "cell_type": "code",
   "execution_count": 33,
   "id": "454ff78c-b752-4016-be67-bad6377f323e",
   "metadata": {},
   "outputs": [
    {
     "data": {
      "image/png": "[encoded data removed]",
      "text/plain": [
       "<Figure size 640x480 with 1 Axes>"
      ]
     },
     "metadata": {},
     "output_type": "display_data"
    }
   ],
   "source": [
    "x = list(map(lambda status: status.value, mutation_coverage_fuzzer.stats.keys()))\n",
    "y = list(mutation_coverage_fuzzer.stats.values())\n",
    "\n",
    "fig, ax = plt.subplots()\n",
    "ax.yaxis.get_major_formatter().set_scientific(False)\n",
    "ax.yaxis.get_major_formatter().set_useOffset(False)\n",
    "plt.title(\"Mutation Coverage Fuzzer: Распределение результатов\")\n",
    "\n",
    "for index in range(len(x)):\n",
    "    plt.text(index, y[index] + 5000, y[index], ha=\"center\")\n",
    "\n",
    "plt.bar(x, y)\n",
    "plt.show()"
   ]
  },
  {
   "cell_type": "code",
   "execution_count": 34,
   "id": "f6f11f5c-7675-4dfa-952d-3342d3615c31",
   "metadata": {},
   "outputs": [
    {
     "data": {
      "image/png": "[encoded data removed]",
      "text/plain": [
       "<Figure size 640x480 with 1 Axes>"
      ]
     },
     "metadata": {},
     "output_type": "display_data"
    }
   ],
   "source": [
    "plt.title(\"Mutation Coverage Fuzzer: Покрытие по итерациям\")\n",
    "plt.plot(mutation_coverage_fuzzer.coverage_stats)\n",
    "plt.xlabel(\"Количество итераций\")\n",
    "plt.ylabel(\"Количество покрытых строк\")\n",
    "plt.show()"
   ]
  },
  {
   "cell_type": "markdown",
   "id": "112c4aeb-3d2f-4a00-8816-366f4c1d93e2",
   "metadata": {},
   "source": [
    "## Cheating Mutations"
   ]
  },
  {
   "cell_type": "code",
   "execution_count": 35,
   "id": "b62c937a-1ebf-4e81-8c58-7b1154bc4b10",
   "metadata": {},
   "outputs": [],
   "source": [
    "class CheatingMutation:\n",
    "    def __init__(self: Self, *, individual: str, whitespaces: list[str]) -> None:\n",
    "        self.individual = individual\n",
    "        self.whitespaces = whitespaces\n",
    "\n",
    "    @staticmethod\n",
    "    def is_valid_json(json_string: str) -> bool:\n",
    "        try:\n",
    "            json_loads(json_string)\n",
    "            return \"Infinity\" not in json_string \n",
    "        except JSONDecodeError:\n",
    "            return False\n",
    "\n",
    "    def add_random_character(self: Self) -> str:\n",
    "        random_char = choice(ascii_letters)\n",
    "        position = randint(0, len(self.individual) - 1)\n",
    "        return self.individual[:position] + random_char + self.individual[position:]\n",
    "    \n",
    "    def remove_random_character(self: Self) -> str:\n",
    "        if len(self.individual) <= 1:\n",
    "            return self.individual\n",
    "\n",
    "        position = randint(0, len(self.individual) - 1)\n",
    "        return self.individual[:position] + self.individual[position + 1:]\n",
    "    \n",
    "    def replace_random_value(self: Self) -> str:\n",
    "        try:\n",
    "            json_object = json_loads(self.individual)\n",
    "            if isinstance(json_object, dict):\n",
    "                key_to_replace = choice(list(json_object.keys()))\n",
    "                json_object[key_to_replace] = \"\".join(choices(ascii_letters, k=5))\n",
    "            elif isinstance(json_object, list):\n",
    "                index_to_replace = randint(0, len(json_object) - 1)\n",
    "                json_object[index_to_replace] = \"\".join(choices(ascii_letters, k=5))\n",
    "            return dumps(json_object)\n",
    "        except Exception:\n",
    "            return self.individual"
   ]
  },
  {
   "cell_type": "code",
   "execution_count": 40,
   "id": "8482bc49-15c5-493b-abd7-67a2d9949dac",
   "metadata": {},
   "outputs": [],
   "source": [
    "class CheatingMutationCoverageFuzzer:\n",
    "    def __init__(\n",
    "        self: Self,\n",
    "        *,\n",
    "        target: Callable[..., Any],\n",
    "        seed: set[str],\n",
    "        min_mutations: int,\n",
    "        max_mutations: int,\n",
    "        tries: int,\n",
    "    ) -> None:\n",
    "        self.target = target\n",
    "        self.seed = seed\n",
    "        self.min_mutations = min_mutations\n",
    "        self.max_mutations = max_mutations\n",
    "        self.tries = tries\n",
    "\n",
    "        self.stats = defaultdict(lambda: 0)\n",
    "        self.failed_individuals = set()\n",
    "        self.coverage_stats = []\n",
    "\n",
    "        self.runner = Runner(target=target)\n",
    "        self.population = seed\n",
    "        self.coverage_status = {line: False for line in self.runner.coverage.lines}\n",
    "\n",
    "        self.init()\n",
    "\n",
    "    def mutate(self: Self, individual: str) -> str:\n",
    "        mutation = CheatingMutation(individual=individual, whitespaces=[\" \", \"\\t\", \"\\n\", \"\\r\"])\n",
    "        return choice([\n",
    "            mutation.add_random_character,\n",
    "            mutation.remove_random_character,\n",
    "            mutation.replace_random_value,\n",
    "        ])()\n",
    "\n",
    "    def create_candidate(self: Self) -> str:\n",
    "        candidate = choice(list(self.population))\n",
    "        mutations_count = randint(self.min_mutations, self.max_mutations)\n",
    "        for _ in range(mutations_count):\n",
    "            mutant = self.mutate(candidate)\n",
    "            if CheatingMutation.is_valid_json(mutant):\n",
    "                candidate = mutant\n",
    "        return candidate\n",
    "\n",
    "    def _run(self: Self, individual: str) -> RunnerStatus:\n",
    "        _, result = self.runner.run(individual)\n",
    "        covered_lines = deepcopy(self.runner.coverage.covered_lines)\n",
    "        for line in covered_lines:\n",
    "            if line in self.coverage_status and not self.coverage_status[line]:\n",
    "                self.coverage_status[line] = True\n",
    "                self.population.add(individual)\n",
    "\n",
    "        self.stats[result] += 1\n",
    "        self.coverage_stats.append(len(list(filter(self.coverage_status.get, self.coverage_status))))\n",
    "        \n",
    "        if result is RunnerStatus.FAILED:\n",
    "            self.failed_individuals.add(individual)\n",
    "        \n",
    "        return result\n",
    "\n",
    "    def init(self: Self) -> None:\n",
    "        for individual in self.seed:\n",
    "            self._run(individual)\n",
    "\n",
    "    def run(self: Self) -> None:\n",
    "        individual = self.create_candidate()\n",
    "        self._run(individual)\n",
    "\n",
    "    def fuzz(self: Self) -> None:\n",
    "        for _ in tqdm(range(self.tries)):\n",
    "            self.run()"
   ]
  },
  {
   "cell_type": "markdown",
   "id": "f76d9db8-03d2-4679-8fbb-ec5a81a52aa7",
   "metadata": {},
   "source": [
    "__Расчёты__"
   ]
  },
  {
   "cell_type": "code",
   "execution_count": 41,
   "id": "068754f0-80f4-4ad7-ae12-d77412d30bd2",
   "metadata": {},
   "outputs": [
    {
     "data": {
      "text/plain": [
       "{'\\t\\r \\r \\n\\r\"\\U0004cfe4\\U0008e15c\\U000b8501\\U0010b8a8\\U000ba335𤉾\"',\n",
       " '\\t     \\t[]\\r\\n',\n",
       " '\\tnull\\n',\n",
       " '\\t{\\n\"\\U00100c4f\":\\r\\r-0\\r,\\r\"\\U000c9522\"\\n\\r\\t \\t:\\n\\r\\t\\t\\t\\rfalse\\n }\\n \\r\\n\\r\\n',\n",
       " '\\n\"\" ',\n",
       " '\\r \\r\\t-50',\n",
       " ' \\n \\r\\r\\n\\r\\n\"\"',\n",
       " ' \"\"\\n\\r',\n",
       " '\"\"  \\r\\r\\r\\r\\t \\t\\n      \\t\\r',\n",
       " '{ \\r\\n}\\r'}"
      ]
     },
     "execution_count": 41,
     "metadata": {},
     "output_type": "execute_result"
    }
   ],
   "source": [
    "initial_seeds = {simple_grammar_fuzzer(grammar=JSON_GRAMMAR, start=\"<json>\", max_nonterminals=10, max_expansion_trials=100) for _ in range(10)}\n",
    "initial_seeds"
   ]
  },
  {
   "cell_type": "code",
   "execution_count": 42,
   "id": "c326a870-b708-4a6a-96a9-19aff2922c2b",
   "metadata": {},
   "outputs": [],
   "source": [
    "mutation_coverage_fuzzer = CheatingMutationCoverageFuzzer(\n",
    "                                target=custom_parse,\n",
    "                                seed=initial_seeds,\n",
    "                                min_mutations=20,\n",
    "                                max_mutations=30,\n",
    "                                tries=500_000,\n",
    "                            )"
   ]
  },
  {
   "cell_type": "code",
   "execution_count": 43,
   "id": "22cb5874-125c-45c0-8f33-2e59276d3dd8",
   "metadata": {},
   "outputs": [
    {
     "data": {
      "application/vnd.jupyter.widget-view+json": {
       "model_id": "df3d7af3542c4dccb3a218d45167ea3e",
       "version_major": 2,
       "version_minor": 0
      },
      "text/plain": [
       "  0%|          | 0/500000 [00:00<?, ?it/s]"
      ]
     },
     "metadata": {},
     "output_type": "display_data"
    }
   ],
   "source": [
    "mutation_coverage_fuzzer.fuzz()"
   ]
  },
  {
   "cell_type": "code",
   "execution_count": 44,
   "id": "b8201855-a4ab-4d46-8b57-88bfd7534cc0",
   "metadata": {},
   "outputs": [
    {
     "data": {
      "image/png": "[encoded data removed]",
      "text/plain": [
       "<Figure size 640x480 with 1 Axes>"
      ]
     },
     "metadata": {},
     "output_type": "display_data"
    }
   ],
   "source": [
    "x = list(map(lambda status: status.value, mutation_coverage_fuzzer.stats.keys()))\n",
    "y = list(mutation_coverage_fuzzer.stats.values())\n",
    "\n",
    "fig, ax = plt.subplots()\n",
    "ax.yaxis.get_major_formatter().set_scientific(False)\n",
    "ax.yaxis.get_major_formatter().set_useOffset(False)\n",
    "plt.title(\"Mutation Coverage Fuzzer: Распределение результатов\")\n",
    "\n",
    "for index in range(len(x)):\n",
    "    plt.text(index, y[index] + 1, y[index], ha=\"center\")\n",
    "\n",
    "plt.bar(x, y)\n",
    "plt.show()"
   ]
  },
  {
   "cell_type": "code",
   "execution_count": 45,
   "id": "192db05e-a467-4ab5-8e00-38c6c49b3711",
   "metadata": {},
   "outputs": [
    {
     "data": {
      "text/plain": [
       "set()"
      ]
     },
     "execution_count": 45,
     "metadata": {},
     "output_type": "execute_result"
    }
   ],
   "source": [
    "mutation_coverage_fuzzer.failed_individuals"
   ]
  },
  {
   "cell_type": "code",
   "execution_count": 46,
   "id": "4d878621-6cfc-426f-b816-b046767baa5f",
   "metadata": {},
   "outputs": [
    {
     "data": {
      "image/png": "[encoded data removed]",
      "text/plain": [
       "<Figure size 640x480 with 1 Axes>"
      ]
     },
     "metadata": {},
     "output_type": "display_data"
    }
   ],
   "source": [
    "plt.title(\"Mutation Coverage Fuzzer: Покрытие по итерациям\")\n",
    "plt.plot(mutation_coverage_fuzzer.coverage_stats)\n",
    "plt.xlabel(\"Количество итераций\")\n",
    "plt.ylabel(\"Количество покрытых строк\")\n",
    "plt.show()"
   ]
  },
  {
   "cell_type": "code",
   "execution_count": 47,
   "id": "f3580ba2-e3e4-489f-b1e5-a9fd66a5c83f",
   "metadata": {},
   "outputs": [
    {
     "data": {
      "text/plain": [
       "11"
      ]
     },
     "execution_count": 47,
     "metadata": {},
     "output_type": "execute_result"
    }
   ],
   "source": [
    "len(mutation_coverage_fuzzer.population)"
   ]
  },
  {
   "cell_type": "code",
   "execution_count": 48,
   "id": "c9a7df2d-7355-4f3f-b2ad-026335056a03",
   "metadata": {},
   "outputs": [
    {
     "data": {
      "text/plain": [
       "{'\\t\\r \\r \\n\\r\"\\U0004cfe4\\U0008e15c\\U000b8501\\U0010b8a8\\U000ba335𤉾\"',\n",
       " '\\t     \\t[]\\r\\n',\n",
       " '\\tnull\\n',\n",
       " '\\t{\\n\"\\U00100c4f\":\\r\\r-0\\r,\\r\"\\U000c9522\"\\n\\r\\t \\t:\\n\\r\\t\\t\\t\\rfalse\\n }\\n \\r\\n\\r\\n',\n",
       " '\\n\"\" ',\n",
       " '\\r \\r\\t-50',\n",
       " ' \\n \\r\\r\\n\\r\\n\"\"',\n",
       " ' \"\"\\n\\r',\n",
       " '\"\"  \\r\\r\\r\\r\\t \\t\\n      \\t\\r',\n",
       " '5.0',\n",
       " '{ \\r\\n}\\r'}"
      ]
     },
     "execution_count": 48,
     "metadata": {},
     "output_type": "execute_result"
    }
   ],
   "source": [
    "mutation_coverage_fuzzer.population"
   ]
  },
  {
   "cell_type": "code",
   "execution_count": null,
   "id": "b2181293-b91a-48c5-b86f-471c4bdf70de",
   "metadata": {},
   "outputs": [],
   "source": []
  }
 ],
 "metadata": {
  "kernelspec": {
   "display_name": "Python 3 (ipykernel)",
   "language": "python",
   "name": "python3"
  },
  "language_info": {
   "codemirror_mode": {
    "name": "ipython",
    "version": 3
   },
   "file_extension": ".py",
   "mimetype": "text/x-python",
   "name": "python",
   "nbconvert_exporter": "python",
   "pygments_lexer": "ipython3",
   "version": "3.11.3"
  }
 },
 "nbformat": 4,
 "nbformat_minor": 5
}
